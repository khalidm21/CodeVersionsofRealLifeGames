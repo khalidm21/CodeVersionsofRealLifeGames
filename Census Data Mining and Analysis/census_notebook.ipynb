{
 "cells": [
  {
   "cell_type": "code",
   "execution_count": 1,
   "metadata": {},
   "outputs": [],
   "source": [
    "#HW 8 Khalid Mohamed moha0768 Lab 006\n",
    "#Partners Kevin Wolf, Ahmed Ali \n",
    "import csv\n"
   ]
  },
  {
   "cell_type": "code",
   "execution_count": 2,
   "metadata": {},
   "outputs": [],
   "source": [
    "with open('census.csv') as c:\n",
    "    census = list(csv.DictReader(c))"
   ]
  },
  {
   "cell_type": "code",
   "execution_count": 3,
   "metadata": {},
   "outputs": [],
   "source": [
    "import pandas as pd\n",
    "from pandas import DataFrame, Series"
   ]
  },
  {
   "cell_type": "code",
   "execution_count": 4,
   "metadata": {},
   "outputs": [
    {
     "data": {
      "text/plain": [
       "3193"
      ]
     },
     "execution_count": 4,
     "metadata": {},
     "output_type": "execute_result"
    }
   ],
   "source": [
    "df = pd.read_csv('census.csv')\n",
    "length = len(df)\n",
    "length"
   ]
  },
  {
   "cell_type": "code",
   "execution_count": 5,
   "metadata": {},
   "outputs": [
    {
     "name": "stdout",
     "output_type": "stream",
     "text": [
      "{'Virginia', 'Alabama', 'Oklahoma', 'Arkansas', 'Maryland', 'Pennsylvania', 'New Jersey', 'Michigan', 'South Carolina', 'Hawaii', 'Wyoming', 'Delaware', 'Arizona', 'Massachusetts', 'Ohio', 'Illinois', 'Nevada', 'New Hampshire', 'Idaho', 'New York', 'District of Columbia', 'Connecticut', 'Maine', 'Vermont', 'Louisiana', 'Indiana', 'Iowa', 'Utah', 'Florida', 'Alaska', 'Wisconsin', 'New Mexico', 'Colorado', 'Montana', 'Washington', 'Rhode Island', 'Texas', 'Missouri', 'Minnesota', 'West Virginia', 'Kentucky', 'North Carolina', 'Kansas', 'Georgia', 'Oregon', 'Nebraska', 'Tennessee', 'Mississippi', 'North Dakota', 'California', 'South Dakota'}\n"
     ]
    }
   ],
   "source": [
    "states = set(i['STNAME'] for i in census)\n",
    "print(states)"
   ]
  },
  {
   "cell_type": "code",
   "execution_count": 10,
   "metadata": {
    "scrolled": true
   },
   "outputs": [],
   "source": [
    "#worksheet2, task 1\n",
    "def answer1():\n",
    "    LeastCounty = []\n",
    "    for c in states:\n",
    "        total_num_of_counties = 0\n",
    "        count_counties= 0\n",
    "    \n",
    "        for s in census:\n",
    "            if s['STNAME']== c:\n",
    "                #print(c)\n",
    "                count_counties = (count_counties + 1)\n",
    "                #print(count_counties)\n",
    "        count_counties = count_counties - 1\n",
    "        LeastCounty.append([count_counties,c])  \n",
    "        LeastCounty.sort()\n",
    "        min(LeastCounty)\n",
    "        L = min(LeastCounty) \n",
    "        L = \" \".join(str(x) for x in L)\n",
    "    return (L)\n",
    "\n",
    "        \n",
    "\n",
    "\n"
   ]
  },
  {
   "cell_type": "code",
   "execution_count": 11,
   "metadata": {},
   "outputs": [
    {
     "data": {
      "text/plain": [
       "'1 District of Columbia'"
      ]
     },
     "execution_count": 11,
     "metadata": {},
     "output_type": "execute_result"
    }
   ],
   "source": [
    "answer1()"
   ]
  },
  {
   "cell_type": "code",
   "execution_count": 15,
   "metadata": {},
   "outputs": [
    {
     "data": {
      "text/plain": [
       "'California 526714.2'"
      ]
     },
     "execution_count": 15,
     "metadata": {},
     "output_type": "execute_result"
    }
   ],
   "source": [
    "#worksheet2, task 2\n",
    "def answer2():\n",
    "    total = 0\n",
    "    max1 = 0\n",
    "    for i in range (0,length):\n",
    "        if df['STNAME'][i] == df['CTYNAME'][i]:\n",
    "            total = df['BIRTHS2010'][i] + df['BIRTHS2011'][i] + df['BIRTHS2012'][i] + df['BIRTHS2013'][i] + df['BIRTHS2014'][i] + df['BIRTHS2015'][i] \n",
    "            if total > max1:\n",
    "                max1 = total\n",
    "                highest_avg = max1/5\n",
    "                state = df['STNAME'][i]\n",
    "                \n",
    "    return state +' '+  str(highest_avg)\n",
    "answer2()\n",
    "                \n",
    "        \n",
    "    "
   ]
  },
  {
   "cell_type": "code",
   "execution_count": 14,
   "metadata": {},
   "outputs": [
    {
     "data": {
      "text/plain": [
       "'California 526714.2'"
      ]
     },
     "execution_count": 14,
     "metadata": {},
     "output_type": "execute_result"
    }
   ],
   "source": [
    "answer2()"
   ]
  },
  {
   "cell_type": "code",
   "execution_count": null,
   "metadata": {},
   "outputs": [],
   "source": []
  }
 ],
 "metadata": {
  "kernelspec": {
   "display_name": "Python 3",
   "language": "python",
   "name": "python3"
  },
  "language_info": {
   "codemirror_mode": {
    "name": "ipython",
    "version": 3
   },
   "file_extension": ".py",
   "mimetype": "text/x-python",
   "name": "python",
   "nbconvert_exporter": "python",
   "pygments_lexer": "ipython3",
   "version": "3.7.3"
  }
 },
 "nbformat": 4,
 "nbformat_minor": 2
}
